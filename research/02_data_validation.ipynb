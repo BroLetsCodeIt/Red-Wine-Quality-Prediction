{
 "cells": [
  {
   "cell_type": "code",
   "execution_count": 24,
   "metadata": {},
   "outputs": [],
   "source": [
    "import os"
   ]
  },
  {
   "cell_type": "code",
   "execution_count": 25,
   "metadata": {},
   "outputs": [
    {
     "data": {
      "text/plain": [
       "'c:\\\\Users\\\\Kamlesh\\\\Downloads\\\\ML_ALL\\\\projects\\\\red_wine_prediction'"
      ]
     },
     "execution_count": 25,
     "metadata": {},
     "output_type": "execute_result"
    }
   ],
   "source": [
    "%pwd"
   ]
  },
  {
   "cell_type": "code",
   "execution_count": 26,
   "metadata": {},
   "outputs": [],
   "source": [
    "# os.chdir('../')"
   ]
  },
  {
   "cell_type": "code",
   "execution_count": 27,
   "metadata": {},
   "outputs": [
    {
     "data": {
      "text/plain": [
       "'c:\\\\Users\\\\Kamlesh\\\\Downloads\\\\ML_ALL\\\\projects\\\\red_wine_prediction'"
      ]
     },
     "execution_count": 27,
     "metadata": {},
     "output_type": "execute_result"
    }
   ],
   "source": [
    "%pwd"
   ]
  },
  {
   "cell_type": "code",
   "execution_count": 28,
   "metadata": {},
   "outputs": [],
   "source": [
    "# creating the entity\n",
    "from dataclasses import dataclass \n",
    "from pathlib import Path \n",
    "\n",
    "@dataclass(frozen=True)   # this is used for making the type\n",
    "\n",
    "class DataValidationConfig:\n",
    "    root_dir : Path \n",
    "    STATUS_FILE : str\n",
    "    unzip_data_dir : Path \n",
    "    all_schema : dict"
   ]
  },
  {
   "cell_type": "code",
   "execution_count": 29,
   "metadata": {},
   "outputs": [],
   "source": [
    "from mlProject.constants import * \n",
    "from mlProject.utils.common import *"
   ]
  },
  {
   "cell_type": "code",
   "execution_count": 38,
   "metadata": {},
   "outputs": [],
   "source": [
    "class ConfigurationManager : \n",
    "    def __init__(self ,config_filepath = CONFIG_FILE_PATH , params_filepath = PARAMS_FILE_PATH , schema_filepath = SCHEMA_FILE_PATH ):\n",
    "        self.config = read_yaml(config_filepath)\n",
    "        self.params = read_yaml(params_filepath)\n",
    "        self.schema = read_yaml(schema_filepath)\n",
    "\n",
    "        create_directories([self.config.artifacts_root])\n",
    "\n",
    "\n",
    "\n",
    "    def get_data_validation_config(self)->DataValidationConfig:\n",
    "        config = self.config.data_validation\n",
    "        schema = self.schema.COLUMNS\n",
    "\n",
    "        create_directories([config.root_dir])\n",
    "\n",
    "        data_validation_config = DataValidationConfig(\n",
    "            root_dir=config.root_dir,\n",
    "            STATUS_FILE=config.STATUS_FILE,\n",
    "            unzip_data_dir=config.unzip_data_dir,\n",
    "            all_schema=schema\n",
    "        )\n",
    "\n",
    "        return data_validation_config\n",
    "\n"
   ]
  },
  {
   "cell_type": "code",
   "execution_count": 33,
   "metadata": {},
   "outputs": [],
   "source": [
    "# update the componenets\n",
    "import os \n",
    "import pandas as pd \n",
    "from src.mlProject.logging import logger "
   ]
  },
  {
   "cell_type": "code",
   "execution_count": 36,
   "metadata": {},
   "outputs": [],
   "source": [
    "class DataValidation:\n",
    "    def __init__(self , config : DataValidationConfig):\n",
    "        self.config = config \n",
    "\n",
    "\n",
    "    def validate_all_columns(self)->bool:\n",
    "        try:\n",
    "          \n",
    "\n",
    "            validation_status = None \n",
    "\n",
    "            data = pd.read_csv(self.config.unzip_data_dir)\n",
    "            all_cols = list(data.columns)\n",
    "\n",
    "            all_schema_keys = self.config.all_schema.keys()\n",
    "            all_schema_values = self.config.all_schema.values()\n",
    "            # TODO : also check for types of colums \n",
    "            for col in all_cols:\n",
    "                if col not in all_schema_keys:\n",
    "                    validation_status = False\n",
    "                    with open(self.config.STATUS_FILE , 'w') as f:\n",
    "                        f.write(f\"Validation status : {validation_status}\")\n",
    "                      \n",
    "                else:\n",
    "                    validation_status = True\n",
    "                    with open(self.config.STATUS_FILE , 'w') as f:\n",
    "                        f.write(f'Validation status : {validation_status}')\n",
    "\n",
    "\n",
    "            return validation_status   \n",
    "                         \n",
    "        except Exception as e:\n",
    "           raise e\n",
    "\n"
   ]
  },
  {
   "cell_type": "code",
   "execution_count": 39,
   "metadata": {},
   "outputs": [
    {
     "name": "stdout",
     "output_type": "stream",
     "text": [
      "[2024-05-05 23:36:49,652 : INFO : common : yaml file config\\config.yaml loaded successfully]\n",
      "[2024-05-05 23:36:49,658 : INFO : common : yaml file params.yaml loaded successfully]\n",
      "[2024-05-05 23:36:49,699 : INFO : common : yaml file schema.yaml loaded successfully]\n",
      "[2024-05-05 23:36:49,716 : INFO : common : Created directory at: artifacts]\n",
      "[2024-05-05 23:36:49,719 : INFO : common : Created directory at: artifacts/data_validation]\n"
     ]
    }
   ],
   "source": [
    "# Creat the pipeline \n",
    "\n",
    "try : \n",
    "    config  = ConfigurationManager()\n",
    "    data_validation_config  = config.get_data_validation_config()\n",
    "    data_validation = DataValidation(config=data_validation_config)\n",
    "    data_validation.validate_all_columns()\n",
    "except Exception as e:\n",
    "    raise e    "
   ]
  }
 ],
 "metadata": {
  "kernelspec": {
   "display_name": "mlproj",
   "language": "python",
   "name": "python3"
  },
  "language_info": {
   "codemirror_mode": {
    "name": "ipython",
    "version": 3
   },
   "file_extension": ".py",
   "mimetype": "text/x-python",
   "name": "python",
   "nbconvert_exporter": "python",
   "pygments_lexer": "ipython3",
   "version": "3.11.1"
  }
 },
 "nbformat": 4,
 "nbformat_minor": 2
}
